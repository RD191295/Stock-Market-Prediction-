{
  "nbformat": 4,
  "nbformat_minor": 0,
  "metadata": {
    "colab": {
      "provenance": [],
      "collapsed_sections": [],
      "authorship_tag": "ABX9TyPsDKa3EMI+K2tS/et/532h",
      "include_colab_link": true
    },
    "kernelspec": {
      "name": "python3",
      "display_name": "Python 3"
    },
    "language_info": {
      "name": "python"
    }
  },
  "cells": [
    {
      "cell_type": "markdown",
      "metadata": {
        "id": "view-in-github",
        "colab_type": "text"
      },
      "source": [
        "<a href=\"https://colab.research.google.com/github/RD191295/Stock-Market-Prediction-/blob/main/Stock_Market_Prediction.ipynb\" target=\"_parent\"><img src=\"https://colab.research.google.com/assets/colab-badge.svg\" alt=\"Open In Colab\"/></a>"
      ]
    },
    {
      "cell_type": "code",
      "execution_count": 4,
      "metadata": {
        "colab": {
          "base_uri": "https://localhost:8080/"
        },
        "id": "K4GL85HTuYrA",
        "outputId": "64c4eb01-aa7a-4e26-c127-56afee43a1cf"
      },
      "outputs": [
        {
          "output_type": "stream",
          "name": "stdout",
          "text": [
            "Looking in indexes: https://pypi.org/simple, https://us-python.pkg.dev/colab-wheels/public/simple/\n",
            "Collecting yfinance\n",
            "  Downloading yfinance-0.1.74-py2.py3-none-any.whl (27 kB)\n",
            "Requirement already satisfied: pandas>=0.24.0 in /usr/local/lib/python3.7/dist-packages (from yfinance) (1.3.5)\n",
            "Requirement already satisfied: numpy>=1.15 in /usr/local/lib/python3.7/dist-packages (from yfinance) (1.21.6)\n",
            "Requirement already satisfied: multitasking>=0.0.7 in /usr/local/lib/python3.7/dist-packages (from yfinance) (0.0.11)\n",
            "Requirement already satisfied: lxml>=4.5.1 in /usr/local/lib/python3.7/dist-packages (from yfinance) (4.9.1)\n",
            "Collecting requests>=2.26\n",
            "  Downloading requests-2.28.1-py3-none-any.whl (62 kB)\n",
            "\u001b[K     |████████████████████████████████| 62 kB 1.5 MB/s \n",
            "\u001b[?25hRequirement already satisfied: pytz>=2017.3 in /usr/local/lib/python3.7/dist-packages (from pandas>=0.24.0->yfinance) (2022.2.1)\n",
            "Requirement already satisfied: python-dateutil>=2.7.3 in /usr/local/lib/python3.7/dist-packages (from pandas>=0.24.0->yfinance) (2.8.2)\n",
            "Requirement already satisfied: six>=1.5 in /usr/local/lib/python3.7/dist-packages (from python-dateutil>=2.7.3->pandas>=0.24.0->yfinance) (1.15.0)\n",
            "Requirement already satisfied: certifi>=2017.4.17 in /usr/local/lib/python3.7/dist-packages (from requests>=2.26->yfinance) (2022.6.15)\n",
            "Requirement already satisfied: idna<4,>=2.5 in /usr/local/lib/python3.7/dist-packages (from requests>=2.26->yfinance) (2.10)\n",
            "Requirement already satisfied: charset-normalizer<3,>=2 in /usr/local/lib/python3.7/dist-packages (from requests>=2.26->yfinance) (2.1.1)\n",
            "Requirement already satisfied: urllib3<1.27,>=1.21.1 in /usr/local/lib/python3.7/dist-packages (from requests>=2.26->yfinance) (1.24.3)\n",
            "Installing collected packages: requests, yfinance\n",
            "  Attempting uninstall: requests\n",
            "    Found existing installation: requests 2.23.0\n",
            "    Uninstalling requests-2.23.0:\n",
            "      Successfully uninstalled requests-2.23.0\n",
            "Successfully installed requests-2.28.1 yfinance-0.1.74\n"
          ]
        }
      ],
      "source": [
        "!pip install yfinance"
      ]
    },
    {
      "cell_type": "code",
      "source": [
        "import yfinance as yf\n",
        "import pandas as pd\n",
        "import numpy as np\n",
        "import matplotlib.pyplot as plt\n",
        "import seaborn as sns\n",
        "import tensorflow as tf\n",
        "from sklearn.preprocessing import MinMaxScaler\n",
        "from pandas_datareader import data as pdr"
      ],
      "metadata": {
        "id": "zv4AkPBcxVDJ"
      },
      "execution_count": 5,
      "outputs": []
    },
    {
      "cell_type": "code",
      "source": [
        "# let us get data from yahoo finance\n",
        "yf.pdr_override()\n",
        "stock_data = pdr.get_data_yahoo(\"IEX.NS\", start=\"2010-01-01\", end=\"2022-09-23\")"
      ],
      "metadata": {
        "colab": {
          "base_uri": "https://localhost:8080/"
        },
        "id": "ysLsog0d5bM3",
        "outputId": "768c43d8-204b-43cc-8294-8a844d351ae5"
      },
      "execution_count": 10,
      "outputs": [
        {
          "output_type": "stream",
          "name": "stdout",
          "text": [
            "\r[*********************100%***********************]  1 of 1 completed\n"
          ]
        }
      ]
    },
    {
      "cell_type": "code",
      "source": [
        "# let check data\n",
        "stock_data.head()"
      ],
      "metadata": {
        "colab": {
          "base_uri": "https://localhost:8080/",
          "height": 237
        },
        "id": "8Ml_m0P07QW6",
        "outputId": "bfc09d46-3fad-42e5-a682-1a393135bbaa"
      },
      "execution_count": 11,
      "outputs": [
        {
          "output_type": "execute_result",
          "data": {
            "text/plain": [
              "                 Open       High        Low      Close  Adj Close     Volume\n",
              "Date                                                                        \n",
              "2017-10-23  50.000000  55.333332  50.000000  54.305000  51.381550  100373940\n",
              "2017-10-24  53.833332  54.501667  53.174999  53.446667  50.569427    6492840\n",
              "2017-10-25  53.333332  53.366665  51.521667  52.101665  49.296829    4222440\n",
              "2017-10-26  51.748333  53.000000  51.036667  52.088333  49.284214    2614500\n",
              "2017-10-27  52.000000  52.493332  51.703335  52.169998  49.361485     934440"
            ],
            "text/html": [
              "\n",
              "  <div id=\"df-9fdc273a-339a-45db-a605-a5a0694fb93a\">\n",
              "    <div class=\"colab-df-container\">\n",
              "      <div>\n",
              "<style scoped>\n",
              "    .dataframe tbody tr th:only-of-type {\n",
              "        vertical-align: middle;\n",
              "    }\n",
              "\n",
              "    .dataframe tbody tr th {\n",
              "        vertical-align: top;\n",
              "    }\n",
              "\n",
              "    .dataframe thead th {\n",
              "        text-align: right;\n",
              "    }\n",
              "</style>\n",
              "<table border=\"1\" class=\"dataframe\">\n",
              "  <thead>\n",
              "    <tr style=\"text-align: right;\">\n",
              "      <th></th>\n",
              "      <th>Open</th>\n",
              "      <th>High</th>\n",
              "      <th>Low</th>\n",
              "      <th>Close</th>\n",
              "      <th>Adj Close</th>\n",
              "      <th>Volume</th>\n",
              "    </tr>\n",
              "    <tr>\n",
              "      <th>Date</th>\n",
              "      <th></th>\n",
              "      <th></th>\n",
              "      <th></th>\n",
              "      <th></th>\n",
              "      <th></th>\n",
              "      <th></th>\n",
              "    </tr>\n",
              "  </thead>\n",
              "  <tbody>\n",
              "    <tr>\n",
              "      <th>2017-10-23</th>\n",
              "      <td>50.000000</td>\n",
              "      <td>55.333332</td>\n",
              "      <td>50.000000</td>\n",
              "      <td>54.305000</td>\n",
              "      <td>51.381550</td>\n",
              "      <td>100373940</td>\n",
              "    </tr>\n",
              "    <tr>\n",
              "      <th>2017-10-24</th>\n",
              "      <td>53.833332</td>\n",
              "      <td>54.501667</td>\n",
              "      <td>53.174999</td>\n",
              "      <td>53.446667</td>\n",
              "      <td>50.569427</td>\n",
              "      <td>6492840</td>\n",
              "    </tr>\n",
              "    <tr>\n",
              "      <th>2017-10-25</th>\n",
              "      <td>53.333332</td>\n",
              "      <td>53.366665</td>\n",
              "      <td>51.521667</td>\n",
              "      <td>52.101665</td>\n",
              "      <td>49.296829</td>\n",
              "      <td>4222440</td>\n",
              "    </tr>\n",
              "    <tr>\n",
              "      <th>2017-10-26</th>\n",
              "      <td>51.748333</td>\n",
              "      <td>53.000000</td>\n",
              "      <td>51.036667</td>\n",
              "      <td>52.088333</td>\n",
              "      <td>49.284214</td>\n",
              "      <td>2614500</td>\n",
              "    </tr>\n",
              "    <tr>\n",
              "      <th>2017-10-27</th>\n",
              "      <td>52.000000</td>\n",
              "      <td>52.493332</td>\n",
              "      <td>51.703335</td>\n",
              "      <td>52.169998</td>\n",
              "      <td>49.361485</td>\n",
              "      <td>934440</td>\n",
              "    </tr>\n",
              "  </tbody>\n",
              "</table>\n",
              "</div>\n",
              "      <button class=\"colab-df-convert\" onclick=\"convertToInteractive('df-9fdc273a-339a-45db-a605-a5a0694fb93a')\"\n",
              "              title=\"Convert this dataframe to an interactive table.\"\n",
              "              style=\"display:none;\">\n",
              "        \n",
              "  <svg xmlns=\"http://www.w3.org/2000/svg\" height=\"24px\"viewBox=\"0 0 24 24\"\n",
              "       width=\"24px\">\n",
              "    <path d=\"M0 0h24v24H0V0z\" fill=\"none\"/>\n",
              "    <path d=\"M18.56 5.44l.94 2.06.94-2.06 2.06-.94-2.06-.94-.94-2.06-.94 2.06-2.06.94zm-11 1L8.5 8.5l.94-2.06 2.06-.94-2.06-.94L8.5 2.5l-.94 2.06-2.06.94zm10 10l.94 2.06.94-2.06 2.06-.94-2.06-.94-.94-2.06-.94 2.06-2.06.94z\"/><path d=\"M17.41 7.96l-1.37-1.37c-.4-.4-.92-.59-1.43-.59-.52 0-1.04.2-1.43.59L10.3 9.45l-7.72 7.72c-.78.78-.78 2.05 0 2.83L4 21.41c.39.39.9.59 1.41.59.51 0 1.02-.2 1.41-.59l7.78-7.78 2.81-2.81c.8-.78.8-2.07 0-2.86zM5.41 20L4 18.59l7.72-7.72 1.47 1.35L5.41 20z\"/>\n",
              "  </svg>\n",
              "      </button>\n",
              "      \n",
              "  <style>\n",
              "    .colab-df-container {\n",
              "      display:flex;\n",
              "      flex-wrap:wrap;\n",
              "      gap: 12px;\n",
              "    }\n",
              "\n",
              "    .colab-df-convert {\n",
              "      background-color: #E8F0FE;\n",
              "      border: none;\n",
              "      border-radius: 50%;\n",
              "      cursor: pointer;\n",
              "      display: none;\n",
              "      fill: #1967D2;\n",
              "      height: 32px;\n",
              "      padding: 0 0 0 0;\n",
              "      width: 32px;\n",
              "    }\n",
              "\n",
              "    .colab-df-convert:hover {\n",
              "      background-color: #E2EBFA;\n",
              "      box-shadow: 0px 1px 2px rgba(60, 64, 67, 0.3), 0px 1px 3px 1px rgba(60, 64, 67, 0.15);\n",
              "      fill: #174EA6;\n",
              "    }\n",
              "\n",
              "    [theme=dark] .colab-df-convert {\n",
              "      background-color: #3B4455;\n",
              "      fill: #D2E3FC;\n",
              "    }\n",
              "\n",
              "    [theme=dark] .colab-df-convert:hover {\n",
              "      background-color: #434B5C;\n",
              "      box-shadow: 0px 1px 3px 1px rgba(0, 0, 0, 0.15);\n",
              "      filter: drop-shadow(0px 1px 2px rgba(0, 0, 0, 0.3));\n",
              "      fill: #FFFFFF;\n",
              "    }\n",
              "  </style>\n",
              "\n",
              "      <script>\n",
              "        const buttonEl =\n",
              "          document.querySelector('#df-9fdc273a-339a-45db-a605-a5a0694fb93a button.colab-df-convert');\n",
              "        buttonEl.style.display =\n",
              "          google.colab.kernel.accessAllowed ? 'block' : 'none';\n",
              "\n",
              "        async function convertToInteractive(key) {\n",
              "          const element = document.querySelector('#df-9fdc273a-339a-45db-a605-a5a0694fb93a');\n",
              "          const dataTable =\n",
              "            await google.colab.kernel.invokeFunction('convertToInteractive',\n",
              "                                                     [key], {});\n",
              "          if (!dataTable) return;\n",
              "\n",
              "          const docLinkHtml = 'Like what you see? Visit the ' +\n",
              "            '<a target=\"_blank\" href=https://colab.research.google.com/notebooks/data_table.ipynb>data table notebook</a>'\n",
              "            + ' to learn more about interactive tables.';\n",
              "          element.innerHTML = '';\n",
              "          dataTable['output_type'] = 'display_data';\n",
              "          await google.colab.output.renderOutput(dataTable, element);\n",
              "          const docLink = document.createElement('div');\n",
              "          docLink.innerHTML = docLinkHtml;\n",
              "          element.appendChild(docLink);\n",
              "        }\n",
              "      </script>\n",
              "    </div>\n",
              "  </div>\n",
              "  "
            ]
          },
          "metadata": {},
          "execution_count": 11
        }
      ]
    },
    {
      "cell_type": "code",
      "source": [
        "stock_data = stock_data.reset_index(level=0)\n",
        "stock_data.head()"
      ],
      "metadata": {
        "colab": {
          "base_uri": "https://localhost:8080/",
          "height": 206
        },
        "id": "Vz9hHWtU7ybO",
        "outputId": "c9c5aa0f-cb28-4935-e5e6-c89f8b2c7a4c"
      },
      "execution_count": 12,
      "outputs": [
        {
          "output_type": "execute_result",
          "data": {
            "text/plain": [
              "        Date       Open       High        Low      Close  Adj Close     Volume\n",
              "0 2017-10-23  50.000000  55.333332  50.000000  54.305000  51.381550  100373940\n",
              "1 2017-10-24  53.833332  54.501667  53.174999  53.446667  50.569427    6492840\n",
              "2 2017-10-25  53.333332  53.366665  51.521667  52.101665  49.296829    4222440\n",
              "3 2017-10-26  51.748333  53.000000  51.036667  52.088333  49.284214    2614500\n",
              "4 2017-10-27  52.000000  52.493332  51.703335  52.169998  49.361485     934440"
            ],
            "text/html": [
              "\n",
              "  <div id=\"df-893cec39-25e4-4538-a67d-b78b58818331\">\n",
              "    <div class=\"colab-df-container\">\n",
              "      <div>\n",
              "<style scoped>\n",
              "    .dataframe tbody tr th:only-of-type {\n",
              "        vertical-align: middle;\n",
              "    }\n",
              "\n",
              "    .dataframe tbody tr th {\n",
              "        vertical-align: top;\n",
              "    }\n",
              "\n",
              "    .dataframe thead th {\n",
              "        text-align: right;\n",
              "    }\n",
              "</style>\n",
              "<table border=\"1\" class=\"dataframe\">\n",
              "  <thead>\n",
              "    <tr style=\"text-align: right;\">\n",
              "      <th></th>\n",
              "      <th>Date</th>\n",
              "      <th>Open</th>\n",
              "      <th>High</th>\n",
              "      <th>Low</th>\n",
              "      <th>Close</th>\n",
              "      <th>Adj Close</th>\n",
              "      <th>Volume</th>\n",
              "    </tr>\n",
              "  </thead>\n",
              "  <tbody>\n",
              "    <tr>\n",
              "      <th>0</th>\n",
              "      <td>2017-10-23</td>\n",
              "      <td>50.000000</td>\n",
              "      <td>55.333332</td>\n",
              "      <td>50.000000</td>\n",
              "      <td>54.305000</td>\n",
              "      <td>51.381550</td>\n",
              "      <td>100373940</td>\n",
              "    </tr>\n",
              "    <tr>\n",
              "      <th>1</th>\n",
              "      <td>2017-10-24</td>\n",
              "      <td>53.833332</td>\n",
              "      <td>54.501667</td>\n",
              "      <td>53.174999</td>\n",
              "      <td>53.446667</td>\n",
              "      <td>50.569427</td>\n",
              "      <td>6492840</td>\n",
              "    </tr>\n",
              "    <tr>\n",
              "      <th>2</th>\n",
              "      <td>2017-10-25</td>\n",
              "      <td>53.333332</td>\n",
              "      <td>53.366665</td>\n",
              "      <td>51.521667</td>\n",
              "      <td>52.101665</td>\n",
              "      <td>49.296829</td>\n",
              "      <td>4222440</td>\n",
              "    </tr>\n",
              "    <tr>\n",
              "      <th>3</th>\n",
              "      <td>2017-10-26</td>\n",
              "      <td>51.748333</td>\n",
              "      <td>53.000000</td>\n",
              "      <td>51.036667</td>\n",
              "      <td>52.088333</td>\n",
              "      <td>49.284214</td>\n",
              "      <td>2614500</td>\n",
              "    </tr>\n",
              "    <tr>\n",
              "      <th>4</th>\n",
              "      <td>2017-10-27</td>\n",
              "      <td>52.000000</td>\n",
              "      <td>52.493332</td>\n",
              "      <td>51.703335</td>\n",
              "      <td>52.169998</td>\n",
              "      <td>49.361485</td>\n",
              "      <td>934440</td>\n",
              "    </tr>\n",
              "  </tbody>\n",
              "</table>\n",
              "</div>\n",
              "      <button class=\"colab-df-convert\" onclick=\"convertToInteractive('df-893cec39-25e4-4538-a67d-b78b58818331')\"\n",
              "              title=\"Convert this dataframe to an interactive table.\"\n",
              "              style=\"display:none;\">\n",
              "        \n",
              "  <svg xmlns=\"http://www.w3.org/2000/svg\" height=\"24px\"viewBox=\"0 0 24 24\"\n",
              "       width=\"24px\">\n",
              "    <path d=\"M0 0h24v24H0V0z\" fill=\"none\"/>\n",
              "    <path d=\"M18.56 5.44l.94 2.06.94-2.06 2.06-.94-2.06-.94-.94-2.06-.94 2.06-2.06.94zm-11 1L8.5 8.5l.94-2.06 2.06-.94-2.06-.94L8.5 2.5l-.94 2.06-2.06.94zm10 10l.94 2.06.94-2.06 2.06-.94-2.06-.94-.94-2.06-.94 2.06-2.06.94z\"/><path d=\"M17.41 7.96l-1.37-1.37c-.4-.4-.92-.59-1.43-.59-.52 0-1.04.2-1.43.59L10.3 9.45l-7.72 7.72c-.78.78-.78 2.05 0 2.83L4 21.41c.39.39.9.59 1.41.59.51 0 1.02-.2 1.41-.59l7.78-7.78 2.81-2.81c.8-.78.8-2.07 0-2.86zM5.41 20L4 18.59l7.72-7.72 1.47 1.35L5.41 20z\"/>\n",
              "  </svg>\n",
              "      </button>\n",
              "      \n",
              "  <style>\n",
              "    .colab-df-container {\n",
              "      display:flex;\n",
              "      flex-wrap:wrap;\n",
              "      gap: 12px;\n",
              "    }\n",
              "\n",
              "    .colab-df-convert {\n",
              "      background-color: #E8F0FE;\n",
              "      border: none;\n",
              "      border-radius: 50%;\n",
              "      cursor: pointer;\n",
              "      display: none;\n",
              "      fill: #1967D2;\n",
              "      height: 32px;\n",
              "      padding: 0 0 0 0;\n",
              "      width: 32px;\n",
              "    }\n",
              "\n",
              "    .colab-df-convert:hover {\n",
              "      background-color: #E2EBFA;\n",
              "      box-shadow: 0px 1px 2px rgba(60, 64, 67, 0.3), 0px 1px 3px 1px rgba(60, 64, 67, 0.15);\n",
              "      fill: #174EA6;\n",
              "    }\n",
              "\n",
              "    [theme=dark] .colab-df-convert {\n",
              "      background-color: #3B4455;\n",
              "      fill: #D2E3FC;\n",
              "    }\n",
              "\n",
              "    [theme=dark] .colab-df-convert:hover {\n",
              "      background-color: #434B5C;\n",
              "      box-shadow: 0px 1px 3px 1px rgba(0, 0, 0, 0.15);\n",
              "      filter: drop-shadow(0px 1px 2px rgba(0, 0, 0, 0.3));\n",
              "      fill: #FFFFFF;\n",
              "    }\n",
              "  </style>\n",
              "\n",
              "      <script>\n",
              "        const buttonEl =\n",
              "          document.querySelector('#df-893cec39-25e4-4538-a67d-b78b58818331 button.colab-df-convert');\n",
              "        buttonEl.style.display =\n",
              "          google.colab.kernel.accessAllowed ? 'block' : 'none';\n",
              "\n",
              "        async function convertToInteractive(key) {\n",
              "          const element = document.querySelector('#df-893cec39-25e4-4538-a67d-b78b58818331');\n",
              "          const dataTable =\n",
              "            await google.colab.kernel.invokeFunction('convertToInteractive',\n",
              "                                                     [key], {});\n",
              "          if (!dataTable) return;\n",
              "\n",
              "          const docLinkHtml = 'Like what you see? Visit the ' +\n",
              "            '<a target=\"_blank\" href=https://colab.research.google.com/notebooks/data_table.ipynb>data table notebook</a>'\n",
              "            + ' to learn more about interactive tables.';\n",
              "          element.innerHTML = '';\n",
              "          dataTable['output_type'] = 'display_data';\n",
              "          await google.colab.output.renderOutput(dataTable, element);\n",
              "          const docLink = document.createElement('div');\n",
              "          docLink.innerHTML = docLinkHtml;\n",
              "          element.appendChild(docLink);\n",
              "        }\n",
              "      </script>\n",
              "    </div>\n",
              "  </div>\n",
              "  "
            ]
          },
          "metadata": {},
          "execution_count": 12
        }
      ]
    },
    {
      "cell_type": "code",
      "source": [
        "# Let us check null values\n",
        "stock_data.isnull().sum()"
      ],
      "metadata": {
        "colab": {
          "base_uri": "https://localhost:8080/"
        },
        "id": "BaHMBG3v-Dv3",
        "outputId": "a9fd30b1-05dc-4b17-f2d7-0435bc630d31"
      },
      "execution_count": 13,
      "outputs": [
        {
          "output_type": "execute_result",
          "data": {
            "text/plain": [
              "Date         0\n",
              "Open         0\n",
              "High         0\n",
              "Low          0\n",
              "Close        0\n",
              "Adj Close    0\n",
              "Volume       0\n",
              "dtype: int64"
            ]
          },
          "metadata": {},
          "execution_count": 13
        }
      ]
    },
    {
      "cell_type": "code",
      "source": [
        "plt.figure(figsize=(15, 8))\n",
        "plt.title('IEX Stock Prices History', fontsize = 16,color='green')\n",
        "plt.plot(stock_data['Date'],stock_data['Adj Close'])\n",
        "plt.xlabel('Date',fontsize =14, color = \"green\")\n",
        "plt.ylabel('Prices in INR', fontsize = 14, color = \"green\")"
      ],
      "metadata": {
        "colab": {
          "base_uri": "https://localhost:8080/",
          "height": 537
        },
        "id": "hG3kEPlM-Kaw",
        "outputId": "ad404705-cff8-4a7f-d96a-aac3ad99c0ea"
      },
      "execution_count": 14,
      "outputs": [
        {
          "output_type": "execute_result",
          "data": {
            "text/plain": [
              "Text(0, 0.5, 'Prices in INR')"
            ]
          },
          "metadata": {},
          "execution_count": 14
        },
        {
          "output_type": "display_data",
          "data": {
            "text/plain": [
              "<Figure size 1080x576 with 1 Axes>"
            ],
            "image/png": "[encoded data removed]"
          },
          "metadata": {
            "needs_background": "light"
          }
        }
      ]
    },
    {
      "cell_type": "code",
      "source": [
        "#Set Target Variable\n",
        "output_var = pd.DataFrame(stock_data[\"Adj Close\"])\n",
        "\n",
        "# Select features\n",
        "features = [\"Open\",\t\"High\",\t\"Low\",\t\"Close\"]"
      ],
      "metadata": {
        "id": "HqH1awJr-YhU"
      },
      "execution_count": 15,
      "outputs": []
    },
    {
      "cell_type": "code",
      "source": [
        "# Scaling\n",
        "scaler = MinMaxScaler()\n",
        "stock_data_scaled = scaler.fit_transform(stock_data[features])"
      ],
      "metadata": {
        "id": "7Okp7WbyVRvh"
      },
      "execution_count": 16,
      "outputs": []
    },
    {
      "cell_type": "code",
      "source": [
        "#Splitting to Training set and Test set\n",
        "from sklearn.model_selection import TimeSeriesSplit\n",
        "timesplit = TimeSeriesSplit(n_splits = 10)\n",
        "\n",
        "for train_index, test_index in timesplit.split(stock_data_scaled):\n",
        "  X_train, X_test = stock_data_scaled[:len(train_index)], stock_data_scaled[len(train_index): len(train_index) + len(test_index)]\n",
        "  Y_train, Y_test = output_var[:len(train_index)].values.ravel(),  output_var[len(train_index): len(train_index) + len(test_index)].values.ravel()"
      ],
      "metadata": {
        "id": "a3rMM1CxUGE0"
      },
      "execution_count": 17,
      "outputs": []
    },
    {
      "cell_type": "code",
      "source": [
        "# Let check shape of X_train, X_test, Y_train, Y_test\n",
        "print(\"X_train shape:\",X_train.shape)\n",
        "print(\"X_test shape:\",X_test.shape)\n",
        "print(\"Y_train shape:\",Y_train.shape)\n",
        "print(\"Y_test shape:\",Y_test.shape)\n"
      ],
      "metadata": {
        "colab": {
          "base_uri": "https://localhost:8080/"
        },
        "id": "yqpIbCcSTb8H",
        "outputId": "a35e0a5a-e478-44ae-b3e1-c49a6eab38ba"
      },
      "execution_count": 18,
      "outputs": [
        {
          "output_type": "stream",
          "name": "stdout",
          "text": [
            "X_train shape: (1107, 4)\n",
            "X_test shape: (110, 4)\n",
            "Y_train shape: (1107,)\n",
            "Y_test shape: (110,)\n"
          ]
        }
      ]
    },
    {
      "cell_type": "code",
      "source": [
        "# Let us reshape data \n",
        "train_data = np.array(X_train)\n",
        "test_data = np.array(X_test)\n",
        "\n",
        "# reshape it for model \n",
        "X_train = np.reshape(train_data, (train_data.shape[0], 1, train_data.shape[1])) \n",
        "X_test = np.reshape(test_data, (test_data.shape[0], 1, test_data.shape[1])) "
      ],
      "metadata": {
        "id": "PbRJ3a8lYARG"
      },
      "execution_count": 19,
      "outputs": []
    },
    {
      "cell_type": "code",
      "source": [
        "# Let check shape of X_train, X_test, Y_train, Y_test\n",
        "print(\"X_train shape:\",X_train.shape)\n",
        "print(\"X_test shape:\",X_test.shape)\n",
        "print(\"Y_train shape:\",Y_train.shape)\n",
        "print(\"Y_test shape:\",Y_test.shape)"
      ],
      "metadata": {
        "colab": {
          "base_uri": "https://localhost:8080/"
        },
        "id": "nOxw5LMcYnjV",
        "outputId": "5ee26d0e-f226-4977-a127-41ec8861dc3a"
      },
      "execution_count": 20,
      "outputs": [
        {
          "output_type": "stream",
          "name": "stdout",
          "text": [
            "X_train shape: (1107, 1, 4)\n",
            "X_test shape: (110, 1, 4)\n",
            "Y_train shape: (1107,)\n",
            "Y_test shape: (110,)\n"
          ]
        }
      ]
    },
    {
      "cell_type": "code",
      "source": [
        "# Model\n",
        "\n",
        "stock_model = tf.keras.models.Sequential()\n",
        "\n",
        "stock_model.add(tf.keras.layers.LSTM(units = 1024, input_shape = (1,train_data.shape[1]), return_sequences= True))\n",
        "stock_model.add(tf.keras.layers.LSTM(units = 512, return_sequences= True))\n",
        "stock_model.add(tf.keras.layers.LSTM(units = 256, return_sequences= True))\n",
        "stock_model.add(tf.keras.layers.LSTM(units = 128))\n",
        "stock_model.add(tf.keras.layers.Dense(units = 1))\n",
        "\n",
        "stock_model.compile(optimizer = tf.keras.optimizers.Adadelta(learning_rate = 0.1),\n",
        "                    loss = \"mean_squared_error\")"
      ],
      "metadata": {
        "id": "x2UbmbrzYtaG"
      },
      "execution_count": 21,
      "outputs": []
    },
    {
      "cell_type": "code",
      "source": [
        "# Let us check stock_model summary\n",
        "stock_model.summary()"
      ],
      "metadata": {
        "colab": {
          "base_uri": "https://localhost:8080/"
        },
        "id": "srPOpCAGZ-dB",
        "outputId": "fc14772b-0dcd-4e26-8dcc-a24b81fd3b32"
      },
      "execution_count": 22,
      "outputs": [
        {
          "output_type": "stream",
          "name": "stdout",
          "text": [
            "Model: \"sequential\"\n",
            "_________________________________________________________________\n",
            " Layer (type)                Output Shape              Param #   \n",
            "=================================================================\n",
            " lstm (LSTM)                 (None, 1, 1024)           4214784   \n",
            "                                                                 \n",
            " lstm_1 (LSTM)               (None, 1, 512)            3147776   \n",
            "                                                                 \n",
            " lstm_2 (LSTM)               (None, 1, 256)            787456    \n",
            "                                                                 \n",
            " lstm_3 (LSTM)               (None, 128)               197120    \n",
            "                                                                 \n",
            " dense (Dense)               (None, 1)                 129       \n",
            "                                                                 \n",
            "=================================================================\n",
            "Total params: 8,347,265\n",
            "Trainable params: 8,347,265\n",
            "Non-trainable params: 0\n",
            "_________________________________________________________________\n"
          ]
        }
      ]
    },
    {
      "cell_type": "code",
      "source": [
        "# we will train model on X_train , Y_train\n",
        "stock_model.fit(X_train, Y_train, epochs = 100, batch_size = 64, verbose = 1, shuffle = False)"
      ],
      "metadata": {
        "colab": {
          "base_uri": "https://localhost:8080/"
        },
        "id": "kjP2hpG4aD6g",
        "outputId": "b21d167b-3fd3-476f-cbad-926a65f6f005"
      },
      "execution_count": 86,
      "outputs": [
        {
          "output_type": "stream",
          "name": "stdout",
          "text": [
            "Epoch 1/100\n",
            "18/18 [==============================] - 3s 149ms/step - loss: 86.9505\n",
            "Epoch 2/100\n",
            "18/18 [==============================] - 3s 148ms/step - loss: 86.7676\n",
            "Epoch 3/100\n",
            "18/18 [==============================] - 3s 149ms/step - loss: 86.5851\n",
            "Epoch 4/100\n",
            "18/18 [==============================] - 3s 147ms/step - loss: 86.4029\n",
            "Epoch 5/100\n",
            "18/18 [==============================] - 3s 146ms/step - loss: 86.2209\n",
            "Epoch 6/100\n",
            "18/18 [==============================] - 3s 149ms/step - loss: 86.0394\n",
            "Epoch 7/100\n",
            "18/18 [==============================] - 3s 149ms/step - loss: 85.8581\n",
            "Epoch 8/100\n",
            "18/18 [==============================] - 3s 148ms/step - loss: 85.6772\n",
            "Epoch 9/100\n",
            "18/18 [==============================] - 3s 150ms/step - loss: 85.4966\n",
            "Epoch 10/100\n",
            "18/18 [==============================] - 3s 147ms/step - loss: 85.3162\n",
            "Epoch 11/100\n",
            "18/18 [==============================] - 3s 147ms/step - loss: 85.1363\n",
            "Epoch 12/100\n",
            "18/18 [==============================] - 3s 148ms/step - loss: 84.9566\n",
            "Epoch 13/100\n",
            "18/18 [==============================] - 3s 153ms/step - loss: 84.7774\n",
            "Epoch 14/100\n",
            "18/18 [==============================] - 3s 148ms/step - loss: 84.5984\n",
            "Epoch 15/100\n",
            "18/18 [==============================] - 3s 194ms/step - loss: 84.4197\n",
            "Epoch 16/100\n",
            "18/18 [==============================] - 4s 250ms/step - loss: 84.2414\n",
            "Epoch 17/100\n",
            "18/18 [==============================] - 3s 175ms/step - loss: 84.0634\n",
            "Epoch 18/100\n",
            "18/18 [==============================] - 4s 229ms/step - loss: 83.8857\n",
            "Epoch 19/100\n",
            "18/18 [==============================] - 3s 148ms/step - loss: 83.7084\n",
            "Epoch 20/100\n",
            "18/18 [==============================] - 3s 148ms/step - loss: 83.5314\n",
            "Epoch 21/100\n",
            "18/18 [==============================] - 4s 219ms/step - loss: 83.3547\n",
            "Epoch 22/100\n",
            "18/18 [==============================] - 3s 149ms/step - loss: 83.1783\n",
            "Epoch 23/100\n",
            "18/18 [==============================] - 3s 151ms/step - loss: 83.0022\n",
            "Epoch 24/100\n",
            "18/18 [==============================] - 3s 149ms/step - loss: 82.8265\n",
            "Epoch 25/100\n",
            "18/18 [==============================] - 3s 147ms/step - loss: 82.6511\n",
            "Epoch 26/100\n",
            "18/18 [==============================] - 3s 152ms/step - loss: 82.4760\n",
            "Epoch 27/100\n",
            "18/18 [==============================] - 3s 147ms/step - loss: 82.3012\n",
            "Epoch 28/100\n",
            "18/18 [==============================] - 3s 147ms/step - loss: 82.1267\n",
            "Epoch 29/100\n",
            "18/18 [==============================] - 3s 149ms/step - loss: 81.9526\n",
            "Epoch 30/100\n",
            "18/18 [==============================] - 3s 147ms/step - loss: 81.7787\n",
            "Epoch 31/100\n",
            "18/18 [==============================] - 3s 149ms/step - loss: 81.6052\n",
            "Epoch 32/100\n",
            "18/18 [==============================] - 3s 147ms/step - loss: 81.4320\n",
            "Epoch 33/100\n",
            "18/18 [==============================] - 3s 150ms/step - loss: 81.2590\n",
            "Epoch 34/100\n",
            "18/18 [==============================] - 3s 147ms/step - loss: 81.0864\n",
            "Epoch 35/100\n",
            "18/18 [==============================] - 3s 147ms/step - loss: 80.9141\n",
            "Epoch 36/100\n",
            "18/18 [==============================] - 3s 148ms/step - loss: 80.7421\n",
            "Epoch 37/100\n",
            "18/18 [==============================] - 3s 149ms/step - loss: 80.5704\n",
            "Epoch 38/100\n",
            "18/18 [==============================] - 3s 150ms/step - loss: 80.3990\n",
            "Epoch 39/100\n",
            "18/18 [==============================] - 3s 149ms/step - loss: 80.2280\n",
            "Epoch 40/100\n",
            "18/18 [==============================] - 3s 149ms/step - loss: 80.0573\n",
            "Epoch 41/100\n",
            "18/18 [==============================] - 3s 149ms/step - loss: 79.8869\n",
            "Epoch 42/100\n",
            "18/18 [==============================] - 3s 147ms/step - loss: 79.7168\n",
            "Epoch 43/100\n",
            "18/18 [==============================] - 3s 150ms/step - loss: 79.5470\n",
            "Epoch 44/100\n",
            "18/18 [==============================] - 3s 151ms/step - loss: 79.3776\n",
            "Epoch 45/100\n",
            "18/18 [==============================] - 3s 148ms/step - loss: 79.2084\n",
            "Epoch 46/100\n",
            "18/18 [==============================] - 3s 149ms/step - loss: 79.0396\n",
            "Epoch 47/100\n",
            "18/18 [==============================] - 3s 149ms/step - loss: 78.8711\n",
            "Epoch 48/100\n",
            "18/18 [==============================] - 3s 146ms/step - loss: 78.7029\n",
            "Epoch 49/100\n",
            "18/18 [==============================] - 3s 146ms/step - loss: 78.5350\n",
            "Epoch 50/100\n",
            "18/18 [==============================] - 3s 149ms/step - loss: 78.3674\n",
            "Epoch 51/100\n",
            "18/18 [==============================] - 3s 150ms/step - loss: 78.2001\n",
            "Epoch 52/100\n",
            "18/18 [==============================] - 3s 150ms/step - loss: 78.0332\n",
            "Epoch 53/100\n",
            "18/18 [==============================] - 3s 148ms/step - loss: 77.8666\n",
            "Epoch 54/100\n",
            "18/18 [==============================] - 3s 148ms/step - loss: 77.7002\n",
            "Epoch 55/100\n",
            "18/18 [==============================] - 3s 149ms/step - loss: 77.5342\n",
            "Epoch 56/100\n",
            "18/18 [==============================] - 3s 149ms/step - loss: 77.3685\n",
            "Epoch 57/100\n",
            "18/18 [==============================] - 3s 147ms/step - loss: 77.2032\n",
            "Epoch 58/100\n",
            "18/18 [==============================] - 3s 149ms/step - loss: 77.0381\n",
            "Epoch 59/100\n",
            "18/18 [==============================] - 3s 149ms/step - loss: 76.8733\n",
            "Epoch 60/100\n",
            "18/18 [==============================] - 3s 148ms/step - loss: 76.7088\n",
            "Epoch 61/100\n",
            "18/18 [==============================] - 3s 149ms/step - loss: 76.5446\n",
            "Epoch 62/100\n",
            "18/18 [==============================] - 3s 149ms/step - loss: 76.3808\n",
            "Epoch 63/100\n",
            "18/18 [==============================] - 3s 149ms/step - loss: 76.2172\n",
            "Epoch 64/100\n",
            "18/18 [==============================] - 3s 149ms/step - loss: 76.0539\n",
            "Epoch 65/100\n",
            "18/18 [==============================] - 3s 149ms/step - loss: 75.8910\n",
            "Epoch 66/100\n",
            "18/18 [==============================] - 3s 151ms/step - loss: 75.7284\n",
            "Epoch 67/100\n",
            "18/18 [==============================] - 3s 151ms/step - loss: 75.5660\n",
            "Epoch 68/100\n",
            "18/18 [==============================] - 3s 150ms/step - loss: 75.4040\n",
            "Epoch 69/100\n",
            "18/18 [==============================] - 3s 146ms/step - loss: 75.2422\n",
            "Epoch 70/100\n",
            "18/18 [==============================] - 3s 150ms/step - loss: 75.0808\n",
            "Epoch 71/100\n",
            "18/18 [==============================] - 3s 148ms/step - loss: 74.9197\n",
            "Epoch 72/100\n",
            "18/18 [==============================] - 4s 202ms/step - loss: 74.7589\n",
            "Epoch 73/100\n",
            "18/18 [==============================] - 3s 165ms/step - loss: 74.5984\n",
            "Epoch 74/100\n",
            "18/18 [==============================] - 6s 325ms/step - loss: 74.4382\n",
            "Epoch 75/100\n",
            "18/18 [==============================] - 4s 198ms/step - loss: 74.2784\n",
            "Epoch 76/100\n",
            "18/18 [==============================] - 3s 148ms/step - loss: 74.1188\n",
            "Epoch 77/100\n",
            "18/18 [==============================] - 3s 148ms/step - loss: 73.9595\n",
            "Epoch 78/100\n",
            "18/18 [==============================] - 3s 149ms/step - loss: 73.8006\n",
            "Epoch 79/100\n",
            "18/18 [==============================] - 3s 149ms/step - loss: 73.6419\n",
            "Epoch 80/100\n",
            "18/18 [==============================] - 3s 150ms/step - loss: 73.4835\n",
            "Epoch 81/100\n",
            "18/18 [==============================] - 3s 148ms/step - loss: 73.3255\n",
            "Epoch 82/100\n",
            "18/18 [==============================] - 3s 149ms/step - loss: 73.1678\n",
            "Epoch 83/100\n",
            "18/18 [==============================] - 3s 166ms/step - loss: 73.0103\n",
            "Epoch 84/100\n",
            "18/18 [==============================] - 3s 172ms/step - loss: 72.8532\n",
            "Epoch 85/100\n",
            "18/18 [==============================] - 3s 177ms/step - loss: 72.6963\n",
            "Epoch 86/100\n",
            "18/18 [==============================] - 3s 170ms/step - loss: 72.5398\n",
            "Epoch 87/100\n",
            "18/18 [==============================] - 3s 151ms/step - loss: 72.3836\n",
            "Epoch 88/100\n",
            "18/18 [==============================] - 4s 240ms/step - loss: 72.2276\n",
            "Epoch 89/100\n",
            "18/18 [==============================] - 4s 209ms/step - loss: 72.0720\n",
            "Epoch 90/100\n",
            "18/18 [==============================] - 3s 160ms/step - loss: 71.9166\n",
            "Epoch 91/100\n",
            "18/18 [==============================] - 3s 183ms/step - loss: 71.7616\n",
            "Epoch 92/100\n",
            "18/18 [==============================] - 3s 183ms/step - loss: 71.6069\n",
            "Epoch 93/100\n",
            "18/18 [==============================] - 4s 217ms/step - loss: 71.4524\n",
            "Epoch 94/100\n",
            "18/18 [==============================] - 3s 149ms/step - loss: 71.2982\n",
            "Epoch 95/100\n",
            "18/18 [==============================] - 3s 150ms/step - loss: 71.1444\n",
            "Epoch 96/100\n",
            "18/18 [==============================] - 3s 150ms/step - loss: 70.9908\n",
            "Epoch 97/100\n",
            "18/18 [==============================] - 3s 150ms/step - loss: 70.8375\n",
            "Epoch 98/100\n",
            "18/18 [==============================] - 3s 148ms/step - loss: 70.6845\n",
            "Epoch 99/100\n",
            "18/18 [==============================] - 3s 147ms/step - loss: 70.5319\n",
            "Epoch 100/100\n",
            "18/18 [==============================] - 3s 172ms/step - loss: 70.3794\n"
          ]
        },
        {
          "output_type": "execute_result",
          "data": {
            "text/plain": [
              "<keras.callbacks.History at 0x7f19a0fb6c50>"
            ]
          },
          "metadata": {},
          "execution_count": 86
        }
      ]
    },
    {
      "cell_type": "code",
      "source": [
        "# let us predict output \n",
        "Y_pred = tf.squeeze(stock_model.predict(X_test))"
      ],
      "metadata": {
        "id": "XBUEc-WXaDxS"
      },
      "execution_count": 87,
      "outputs": []
    },
    {
      "cell_type": "code",
      "source": [
        "Y_pred"
      ],
      "metadata": {
        "colab": {
          "base_uri": "https://localhost:8080/"
        },
        "id": "pPT2Gzc5eJiI",
        "outputId": "6daa0456-e302-43d8-f8d5-ebb262d50eaf"
      },
      "execution_count": 88,
      "outputs": [
        {
          "output_type": "execute_result",
          "data": {
            "text/plain": [
              "<tf.Tensor: shape=(110,), dtype=float32, numpy=\n",
              "array([223.90358, 223.66347, 223.85484, 224.37965, 223.92882, 221.0916 ,\n",
              "       222.18114, 221.55016, 219.30693, 217.35191, 215.04912, 210.9587 ,\n",
              "       206.3791 , 202.18411, 205.63928, 203.76231, 194.75548, 185.24814,\n",
              "       188.35564, 188.0065 , 194.36816, 198.4782 , 193.20323, 197.83922,\n",
              "       196.98723, 195.26707, 187.90703, 180.08736, 183.06859, 190.44673,\n",
              "       195.80772, 193.57677, 189.40736, 184.82246, 174.7108 , 174.82784,\n",
              "       174.2365 , 178.66977, 180.56378, 174.87984, 173.91461, 172.55132,\n",
              "       168.65654, 167.09279, 166.1132 , 168.93892, 167.24873, 166.87302,\n",
              "       169.53943, 172.5025 , 165.81395, 158.66786, 156.22194, 155.58517,\n",
              "       155.87611, 153.46808, 153.8417 , 158.87247, 159.56067, 159.4857 ,\n",
              "       159.91408, 160.054  , 158.84973, 158.8271 , 161.92801, 161.2462 ,\n",
              "       161.66316, 160.35068, 158.45262, 155.88313, 152.4319 , 150.83559,\n",
              "       152.10683, 154.99477, 160.02649, 163.36552, 162.57668, 160.55843,\n",
              "       161.42096, 161.96785, 161.39772, 160.97545, 161.23122, 165.47751,\n",
              "       169.97273, 164.51537, 161.34747, 155.72813, 153.86107, 155.7895 ,\n",
              "       156.68163, 156.73228, 153.65715, 156.77214, 156.69978, 155.64522,\n",
              "       156.27223, 156.80605, 155.25526, 156.96185, 156.71303, 158.29752,\n",
              "       159.7918 , 158.4196 , 159.26819, 155.6998 , 151.73969, 150.8518 ,\n",
              "       149.28221, 148.89452], dtype=float32)>"
            ]
          },
          "metadata": {},
          "execution_count": 88
        }
      ]
    },
    {
      "cell_type": "code",
      "source": [
        "plt.figure(figsize=(15, 8))\n",
        "plt.title('IEX Stock Prices History & Predicted', fontsize = 16,color='green')\n",
        "plt.plot(Y_test, label= \"Actual Value\")\n",
        "plt.plot(Y_pred, label = \"Predicted Value\")\n",
        "plt.xlabel('Date',fontsize =14, color = \"green\")\n",
        "plt.ylabel('Prices in INR', fontsize = 14, color = \"green\")\n",
        "plt.legend()\n",
        "plt.show()"
      ],
      "metadata": {
        "colab": {
          "base_uri": "https://localhost:8080/",
          "height": 519
        },
        "id": "T0CZ8N13cekz",
        "outputId": "89a61385-1a05-4779-923a-46b830545d53"
      },
      "execution_count": 89,
      "outputs": [
        {
          "output_type": "display_data",
          "data": {
            "text/plain": [
              "<Figure size 1080x576 with 1 Axes>"
            ],
            "image/png": "[encoded data removed]"
          },
          "metadata": {
            "needs_background": "light"
          }
        }
      ]
    },
    {
      "cell_type": "code",
      "source": [
        "stock_model.save('IEX_Stock_prediction.h5')"
      ],
      "metadata": {
        "id": "-VMD2xPOX15L"
      },
      "execution_count": 90,
      "outputs": []
    }
  ]
}